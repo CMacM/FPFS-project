{
 "cells": [
  {
   "cell_type": "code",
   "execution_count": 1,
   "metadata": {},
   "outputs": [],
   "source": [
    "import anacal\n",
    "import galsim\n",
    "import numpy as np\n",
    "import matplotlib.pyplot as plt\n",
    "import batsim\n",
    "import astropy.io.fits as fits\n",
    "\n",
    "from tqdm import tqdm, trange\n",
    "\n",
    "from multiprocessing import Pool, cpu_count"
   ]
  },
  {
   "cell_type": "code",
   "execution_count": 7,
   "metadata": {},
   "outputs": [
    {
     "name": "stdout",
     "output_type": "stream",
     "text": [
      "['g1', '0']\n"
     ]
    }
   ],
   "source": [
    "print(\"g1-0\".split(\"-\"))"
   ]
  },
  {
   "cell_type": "code",
   "execution_count": 15,
   "metadata": {},
   "outputs": [
    {
     "name": "stdout",
     "output_type": "stream",
     "text": [
      "Total number of galaxies: 400\n",
      "True shear is 0.000700\n",
      "Testing for shear component: 1\n",
      "Measurement with sigma_arcsec=0.52:\n",
      "Measured shear is -0.003280\n",
      "    Multiplicative bias is -6.846 e-3\n",
      "    Additive bias is -397.571 e-5\n",
      "Measurement with sigma_arcsec=0.80:\n",
      "Measured shear is -0.005834\n",
      "    Multiplicative bias is 11.481 e-3\n",
      "    Additive bias is -654.224 e-5\n"
     ]
    }
   ],
   "source": [
    "nstamp = 20  # nstamp x nstamp galaxies\n",
    "print(\"Total number of galaxies: %d\" % (nstamp * nstamp))\n",
    "seed = 2  # seed for galaxy\n",
    "noise_seed = 1  # seed for noise\n",
    "pixel_scale = 0.2  # LSST image pixel scale\n",
    "# noise variance for r-bands 10 year LSST coadd (magnitude zero point at 30)\n",
    "noise_std = 0.37 #* np.sqrt(10)\n",
    "noise_variance = noise_std ** 2.0\n",
    "# NOTE: We can set noise variance to zero in the image simulation, but\n",
    "# we cannot set that to zero in the measurement. The measurement needs a\n",
    "# non-zero image noise variance to be run\n",
    "# For the test with noiseless image simulation, we can set do_add_noise\n",
    "# to False, but keep the noise variance to the realistic one as the input\n",
    "# of the measurement\n",
    "do_add_noise = True  # Add image noise or not\n",
    "do_force_detect = True  # Force to have a detection at the center\n",
    "\n",
    "rcut = 32  # cutout radius\n",
    "test_component = 1  # which shear component to test\n",
    "nrot_per_gal = 4  # number of rotation for each galaxy\n",
    "\n",
    "# Simulation\n",
    "ngrid = rcut * 2\n",
    "if not do_force_detect:\n",
    "    coords = None\n",
    "    buff = 15\n",
    "else:\n",
    "    #\n",
    "    # Force to have a detection at the center\n",
    "    #\n",
    "    indx = np.arange(ngrid // 2, ngrid * nstamp, ngrid)\n",
    "    indy = np.arange(ngrid // 2, ngrid * nstamp, ngrid)\n",
    "    ns = len(indx) * len(indy)\n",
    "    inds = np.meshgrid(indy, indx, indexing=\"ij\")\n",
    "    yx = np.vstack([np.ravel(_) for _ in inds])\n",
    "    buff = 0\n",
    "    dtype = np.dtype(\n",
    "        [\n",
    "            (\"y\", np.int32),\n",
    "            (\"x\", np.int32),\n",
    "            (\"is_peak\", np.int32),\n",
    "            (\"mask_value\", np.int32),\n",
    "        ]\n",
    "    )\n",
    "    coords = np.empty(ns, dtype=dtype)\n",
    "    coords[\"y\"] = yx[0]\n",
    "    coords[\"x\"] = yx[1]\n",
    "    coords[\"is_peak\"] = np.ones(ns)\n",
    "    coords[\"mask_value\"] = np.zeros(ns)\n",
    "\n",
    "fpfs_config = anacal.fpfs.FpfsConfig(\n",
    "    sigma_arcsec=0.52,  # The first measurement scale (also for detection)\n",
    "    sigma_arcsec2=0.8,  # The second measurement scale\n",
    ")\n",
    "\n",
    "psf_obj = galsim.Moffat(beta=3.5, fwhm=0.6, trunc=0.6 * 4.0)\n",
    "psf_array = (\n",
    "    psf_obj.shift(0.5 * pixel_scale, 0.5 * pixel_scale)\n",
    "    .drawImage(nx=ngrid, ny=ngrid, scale=pixel_scale)\n",
    "    .array\n",
    ")\n",
    "\n",
    "true_shear = 0.0007\n",
    "print(\"True shear is %.6f\" % true_shear)\n",
    "\n",
    "# Measurement\n",
    "out = []\n",
    "for gname in [\"g%d-1\" % test_component, \"g%d-0\" % test_component]:\n",
    "    gal_array = anacal.simulation.make_isolated_sim(\n",
    "        gal_type=\"mixed\",\n",
    "        sim_method=\"fft\",\n",
    "        psf_obj=psf_obj,\n",
    "        gname=gname,\n",
    "        seed=seed,\n",
    "        ny=ngrid * nstamp,\n",
    "        nx=ngrid * nstamp,\n",
    "        scale=pixel_scale,\n",
    "        do_shift=False,\n",
    "        buff=buff,\n",
    "        nrot_per_gal=nrot_per_gal,\n",
    "        mag_zero=30,\n",
    "        shear_value=true_shear,\n",
    "    )[0]\n",
    "\n",
    "    if do_add_noise:\n",
    "        # Add noise to galaxy image\n",
    "        gal_array = gal_array + np.random.RandomState(noise_seed).normal(\n",
    "            scale=noise_std,\n",
    "            size=gal_array.shape,\n",
    "        )\n",
    "        # The pure noise for noise bias correction\n",
    "        # make sure that the random seeds are different\n",
    "        # (noise variance are the same)\n",
    "        add_noise_seed = int(noise_seed + 1e6)\n",
    "        noise_array = np.random.RandomState(add_noise_seed).normal(\n",
    "            scale=noise_std,\n",
    "            size=gal_array.shape,\n",
    "        )\n",
    "    else:\n",
    "        noise_array = None\n",
    "    out.append(\n",
    "        anacal.fpfs.process_image(\n",
    "            fpfs_config=fpfs_config,\n",
    "            gal_array=gal_array,\n",
    "            psf_array=psf_array,\n",
    "            pixel_scale=pixel_scale,\n",
    "            noise_variance=max(noise_variance, 0.23),\n",
    "            noise_array=noise_array,\n",
    "            coords=coords,\n",
    "        )\n",
    "    )\n",
    "\n",
    "# Printing the results\n",
    "print(\"Testing for shear component: %d\" % test_component)\n",
    "print(\"Measurement with sigma_arcsec=%.2f:\" % fpfs_config.sigma_arcsec)\n",
    "ename = \"e%d\" % test_component\n",
    "egname = \"e%d_g%d\" % (test_component, test_component)\n",
    "wgname = \"w_g%d\" % test_component\n",
    "e1_0 = out[0][\"w\"] * out[0][ename]\n",
    "e1_1 = out[1][\"w\"] * out[1][ename]\n",
    "e1g1_0 = out[0][wgname] * out[0][ename] + out[0][\"w\"] * out[0][egname]\n",
    "e1g1_1 = out[1][wgname] * out[1][ename] + out[1][\"w\"] * out[1][egname]\n",
    "\n",
    "g1 = np.sum(e1_0) / np.sum(e1g1_0)\n",
    "print(\"Measured shear is %.6f\" % g1)\n",
    "mbias = (np.sum(e1_0) - np.sum(e1_1)) / (\n",
    "    np.sum(e1g1_0) + np.sum(e1g1_1)\n",
    ") / true_shear - 1  # 0.02 is the input shear\n",
    "print(\"    Multiplicative bias is %.3f e-3\" % (mbias * 1e3))\n",
    "cbias = (np.sum(e1_0) + np.sum(e1_1)) / (np.sum(e1g1_0) + np.sum(e1g1_1))\n",
    "print(\"    Additive bias is %.3f e-5\" % (cbias * 1e5))\n",
    "#assert mbias < 2e-3\n",
    "\n",
    "print(\"Measurement with sigma_arcsec=%.2f:\" % fpfs_config.sigma_arcsec2)\n",
    "ename = \"e%d_2\" % test_component\n",
    "egname = \"e%d_g%d_2\" % (test_component, test_component)\n",
    "e1_0 = out[0][\"w\"] * out[0][ename]\n",
    "e1_1 = out[1][\"w\"] * out[1][ename]\n",
    "e1g1_0 = out[0][wgname] * out[0][ename] + out[0][\"w\"] * out[0][egname]\n",
    "e1g1_1 = out[1][wgname] * out[1][ename] + out[1][\"w\"] * out[1][egname]\n",
    "\n",
    "g1 = np.sum(e1_0) / np.sum(e1g1_0)\n",
    "print(\"Measured shear is %.6f\" % g1)\n",
    "mbias = (np.sum(e1_0) - np.sum(e1_1)) / (\n",
    "    np.sum(e1g1_0) + np.sum(e1g1_1)\n",
    ") / true_shear - 1  # 0.02 is the input shear\n",
    "print(\"    Multiplicative bias is %.3f e-3\" % (mbias * 1e3))\n",
    "cbias = (np.sum(e1_0) + np.sum(e1_1)) / (np.sum(e1g1_0) + np.sum(e1g1_1))\n",
    "print(\"    Additive bias is %.3f e-5\" % (cbias * 1e5))\n",
    "#assert mbias < 2e-3"
   ]
  },
  {
   "cell_type": "code",
   "execution_count": 16,
   "metadata": {},
   "outputs": [
    {
     "data": {
      "text/plain": [
       "<matplotlib.image.AxesImage at 0x7f3d0c5ae710>"
      ]
     },
     "execution_count": 16,
     "metadata": {},
     "output_type": "execute_result"
    },
    {
     "data": {
      "image/png": "[encoded data removed]",
      "text/plain": [
       "<Figure size 640x480 with 1 Axes>"
      ]
     },
     "metadata": {},
     "output_type": "display_data"
    }
   ],
   "source": [
    "plt.imshow(gal_array[:94,:94])"
   ]
  },
  {
   "cell_type": "code",
   "execution_count": 142,
   "metadata": {},
   "outputs": [
    {
     "name": "stdout",
     "output_type": "stream",
     "text": [
      "NOISE_106423\n"
     ]
    }
   ],
   "source": [
    "with fits.open('simulations/isolated/COSMOS_ngals=100_noisy.fits') as hdul:\n",
    "    # print headers\n",
    "    print(hdul[-2].header['EXTNAME'])"
   ]
  },
  {
   "cell_type": "code",
   "execution_count": 156,
   "metadata": {},
   "outputs": [
    {
     "name": "stderr",
     "output_type": "stream",
     "text": [
      "100%|██████████| 100/100 [00:00<00:00, 855.03it/s]\n"
     ]
    },
    {
     "name": "stdout",
     "output_type": "stream",
     "text": [
      "(64, 64)\n"
     ]
    },
    {
     "name": "stderr",
     "output_type": "stream",
     "text": [
      "100%|██████████| 100/100 [00:00<00:00, 3162.27it/s]\n"
     ]
    },
    {
     "data": {
      "image/png": "[encoded data removed]",
      "text/plain": [
       "<Figure size 640x480 with 1 Axes>"
      ]
     },
     "metadata": {},
     "output_type": "display_data"
    }
   ],
   "source": [
    "# Read in galaxy images with IA\n",
    "filename = 'simulations/isolated/COSMOS_ngals=100_noisy.fits'\n",
    "\n",
    "n_gals = 100\n",
    "n_scenes = 1\n",
    "gals_per_scene = n_gals // n_scenes\n",
    "\n",
    "total_indices = np.arange(0,n_gals)\n",
    "split_inds = np.array_split(total_indices, n_scenes)\n",
    "\n",
    "cosmos = galsim.COSMOSCatalog()\n",
    "records = cosmos.getParametricRecord(np.arange(len(cosmos)))\n",
    "\n",
    "pad = 20\n",
    "i = 0\n",
    "ia_cosmos_list_noisy = []\n",
    "hlrs = []\n",
    "use_bulge = []\n",
    "fluxes = []\n",
    "records_inds = []\n",
    "gal_ids = []\n",
    "with fits.open(filename) as hdul:\n",
    "    for j in tqdm(split_inds[i]):\n",
    "        # exclude the first HDU\n",
    "        data = hdul[j+1].data\n",
    "        ia_cosmos_list_noisy.append(data)\n",
    "\n",
    "        gal_id = hdul[j+1].header['IDENT']\n",
    "        gal_ids.append(gal_id)\n",
    "\n",
    "        record_ind = np.where(records['IDENT'] == gal_id)[0][0]\n",
    "        records_inds.append(record_ind)\n",
    "        \n",
    "        bulge = records['use_bulgefit'][record_ind]\n",
    "        use_bulge.append(bulge)\n",
    "        if bulge:\n",
    "            hlrs.append(records['hlr'][record_ind][2])\n",
    "            fluxes.append(records['flux'][record_ind][3])\n",
    "        else:\n",
    "            hlrs.append(records['hlr'][record_ind][0])\n",
    "            fluxes.append(records['flux'][record_ind][0])\n",
    "\n",
    "    psf_array = hdul[-1].data\n",
    "    # shrink psf\n",
    "    #psf_array = psf_array[10:54,10:54]\n",
    "\n",
    "print(psf_array.shape)\n",
    "plt.imshow(psf_array)\n",
    "\n",
    "# Read in galaxy images with IA\n",
    "filename = 'simulations/isolated/COSMOS_ngals=100_noiseless.fits'\n",
    "\n",
    "i = 0\n",
    "ia_cosmos_list_noiseless = []\n",
    "with fits.open(filename) as hdul:\n",
    "    for j in tqdm(split_inds[i]):\n",
    "        # exclude the first HDU\n",
    "        data = hdul[j+1].data\n",
    "        ia_cosmos_list_noiseless.append(data)"
   ]
  },
  {
   "cell_type": "code",
   "execution_count": 174,
   "metadata": {},
   "outputs": [
    {
     "name": "stdout",
     "output_type": "stream",
     "text": [
      "(1310, 1310)\n"
     ]
    }
   ],
   "source": [
    "# now try inverse back into a list of single images\n",
    "def split_image_into_quadrants(image, n_rot, nn):\n",
    "    '''\n",
    "    THIS CODE WILL SPLIT IMAGES OF 4 ROTATIONS INTO SINGLE\n",
    "    IMAGES, EACH CONTAINING A SINGLE ROTATION. FOR SOME REASON\n",
    "    THIS IS REQUIRED FOR THE BELOW METHOD OF MEASURING SHEAR.\n",
    "    '''\n",
    "    quadrants = []\n",
    "\n",
    "    sqrt_n_rot = int(np.sqrt(n_rot))\n",
    "    \n",
    "    for j in range(n_rot):\n",
    "        # Calculate the row and column positions\n",
    "        row = j // sqrt_n_rot\n",
    "        col = j % sqrt_n_rot\n",
    "\n",
    "        # Calculate the bounds for this quadrant\n",
    "        xmin = col * nn\n",
    "        xmax = (col + 1) * nn\n",
    "        ymin = row * nn\n",
    "        ymax = (row + 1) * nn\n",
    "        \n",
    "        # Extract the quadrant\n",
    "        quadrant = image[ymin:ymax, xmin:xmax]\n",
    "        quadrants.append(quadrant)\n",
    "    \n",
    "    return quadrants\n",
    "\n",
    "ia_cosmos_noisy_quadrants = []\n",
    "ia_cosmos_noiseless_quadrants = []\n",
    "for i in range(len(ia_cosmos_list_noisy)):\n",
    "    quadrants_noisy = split_image_into_quadrants(ia_cosmos_list_noisy[i], nrot_per_gal, ngrid)\n",
    "    ia_cosmos_noisy_quadrants.extend(quadrants_noisy)\n",
    "\n",
    "    quadrants_noiseless = split_image_into_quadrants(ia_cosmos_list_noiseless[i], nrot_per_gal, ngrid)\n",
    "    ia_cosmos_noiseless_quadrants.extend(quadrants_noiseless)\n",
    "\n",
    "# Stacka all quadrants into a single square image\n",
    "n = int(np.sqrt(len(ia_cosmos_noisy_quadrants)))\n",
    "nn = ngrid\n",
    "noisy_stacked = np.zeros((n*nn,n*nn))\n",
    "noiseless_stacked = np.zeros((n*nn,n*nn))\n",
    "\n",
    "for i in range(n):\n",
    "    for j in range(n):\n",
    "        noisy_stacked[i*nn:(i+1)*nn,j*nn:(j+1)*nn] = ia_cosmos_noisy_quadrants[i*n+j]\n",
    "        noiseless_stacked[i*nn:(i+1)*nn,j*nn:(j+1)*nn] = ia_cosmos_noiseless_quadrants[i*n+j]\n",
    "\n",
    "# Pad the stacked images\n",
    "noisy_stacked = np.pad(noisy_stacked, pad_width=buff, mode='constant', constant_values=0)\n",
    "noiseless_stacked = np.pad(noiseless_stacked, pad_width=buff, mode='constant', constant_values=0)\n",
    "\n",
    "# add_noise_seed = int(1337 + 1e8)\n",
    "# noise_array = np.random.RandomState(add_noise_seed).normal(\n",
    "#     scale=noise_std,\n",
    "#     size=noisy_stacked.shape,\n",
    "# )\n",
    "\n",
    "print(noiseless_stacked.shape)"
   ]
  },
  {
   "cell_type": "code",
   "execution_count": 175,
   "metadata": {},
   "outputs": [
    {
     "name": "stdout",
     "output_type": "stream",
     "text": [
      "Testing for shear component: 1\n",
      "Measurement with sigma_arcsec=1.00:\n",
      "    Measured shear is 0.691\n",
      "Measurement with sigma_arcsec=0.45:\n",
      "    Measured shear is -0.213\n"
     ]
    }
   ],
   "source": [
    "# Measurement\n",
    "out = []\n",
    "for gname in [\"g%d-1\" % test_component, \"g%d-0\" % test_component]:\n",
    "    out.append(\n",
    "        anacal.fpfs.process_image(\n",
    "            fpfs_config=fpfs_config,\n",
    "            gal_array=noisy_stacked,\n",
    "            psf_array=psf_array,\n",
    "            pixel_scale=pixel_scale,\n",
    "            noise_variance=max(noise_variance, 0.23),\n",
    "            noise_array=noise_array,\n",
    "            coords=None,\n",
    "        )\n",
    "    )\n",
    "\n",
    "# Printing the results\n",
    "print(\"Testing for shear component: %d\" % test_component)\n",
    "print(\"Measurement with sigma_arcsec=%.2f:\" % fpfs_config.sigma_arcsec)\n",
    "ename = \"e%d\" % test_component\n",
    "egname = \"e%d_g%d\" % (test_component, test_component)\n",
    "wgname = \"w_g%d\" % test_component\n",
    "e1_0 = out[0][\"w\"] * out[0][ename]\n",
    "e1_1 = out[1][\"w\"] * out[1][ename]\n",
    "e1g1_0 = out[0][wgname] * out[0][ename] + out[0][\"w\"] * out[0][egname]\n",
    "e1g1_1 = out[1][wgname] * out[1][ename] + out[1][\"w\"] * out[1][egname]\n",
    "\n",
    "# mbias = (np.sum(e1_0) - np.sum(e1_1)) / (\n",
    "#     np.sum(e1g1_0) + np.sum(e1g1_1)\n",
    "# ) / 0.02 - 1  # 0.02 is the input shear\n",
    "# print(\"    Multiplicative bias is %.3f e-3\" % (mbias * 1e3))\n",
    "# cbias = (np.sum(e1_0) + np.sum(e1_1)) / (np.sum(e1g1_0) + np.sum(e1g1_1))\n",
    "# print(\"    Additive bias is %.3f e-5\" % (cbias * 1e5))\n",
    "# #assert mbias < 2e-3\n",
    "print(\"    Measured shear is %.3f\" % (np.sum(e1_0) + np.sum(e1_1)))\n",
    "\n",
    "print(\"Measurement with sigma_arcsec=%.2f:\" % fpfs_config.sigma_arcsec2)\n",
    "ename = \"e%d_2\" % test_component\n",
    "egname = \"e%d_g%d_2\" % (test_component, test_component)\n",
    "e1_0 = out[0][\"w\"] * out[0][ename]\n",
    "e1_1 = out[1][\"w\"] * out[1][ename]\n",
    "e1g1_0 = out[0][wgname] * out[0][ename] + out[0][\"w\"] * out[0][egname]\n",
    "e1g1_1 = out[1][wgname] * out[1][ename] + out[1][\"w\"] * out[1][egname]\n",
    "\n",
    "# mbias = (np.sum(e1_0) - np.sum(e1_1)) / (\n",
    "#     np.sum(e1g1_0) + np.sum(e1g1_1)\n",
    "# ) / 0.02 - 1  # 0.02 is the input shear\n",
    "# print(\"    Multiplicative bias is %.3f e-3\" % (mbias * 1e3))\n",
    "# cbias = (np.sum(e1_0) + np.sum(e1_1)) / (np.sum(e1g1_0) + np.sum(e1g1_1))\n",
    "# print(\"    Additive bias is %.3f e-5\" % (cbias * 1e5))\n",
    "#assert mbias < 2e-3\n",
    "print(\"    Measured shear is %.3f\" % (np.sum(e1_0) + np.sum(e1_1)))"
   ]
  }
 ],
 "metadata": {
  "kernelspec": {
   "display_name": "batsim",
   "language": "python",
   "name": "python3"
  },
  "language_info": {
   "codemirror_mode": {
    "name": "ipython",
    "version": 3
   },
   "file_extension": ".py",
   "mimetype": "text/x-python",
   "name": "python",
   "nbconvert_exporter": "python",
   "pygments_lexer": "ipython3",
   "version": "3.11.8"
  }
 },
 "nbformat": 4,
 "nbformat_minor": 2
}
